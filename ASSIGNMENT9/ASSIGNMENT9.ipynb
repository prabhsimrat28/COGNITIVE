{
 "cells": [
  {
   "cell_type": "code",
   "execution_count": 4,
   "id": "bf6d8759-6785-45ed-8e3b-fe9fe85f4e5b",
   "metadata": {},
   "outputs": [
    {
     "name": "stdout",
     "output_type": "stream",
     "text": [
      "Collecting nltk==3.8.1\n",
      "  Downloading nltk-3.8.1-py3-none-any.whl.metadata (2.8 kB)\n",
      "Requirement already satisfied: click in d:\\anaconda\\lib\\site-packages (from nltk==3.8.1) (8.1.7)\n",
      "Requirement already satisfied: joblib in d:\\anaconda\\lib\\site-packages (from nltk==3.8.1) (1.4.2)\n",
      "Requirement already satisfied: regex>=2021.8.3 in d:\\anaconda\\lib\\site-packages (from nltk==3.8.1) (2024.9.11)\n",
      "Requirement already satisfied: tqdm in d:\\anaconda\\lib\\site-packages (from nltk==3.8.1) (4.66.5)\n",
      "Requirement already satisfied: colorama in d:\\anaconda\\lib\\site-packages (from click->nltk==3.8.1) (0.4.6)\n",
      "Downloading nltk-3.8.1-py3-none-any.whl (1.5 MB)\n",
      "   ---------------------------------------- 0.0/1.5 MB ? eta -:--:--\n",
      "   ---------------------------------------- 0.0/1.5 MB ? eta -:--:--\n",
      "   ---------------------------------------- 0.0/1.5 MB ? eta -:--:--\n",
      "   ---------------------------------------- 0.0/1.5 MB ? eta -:--:--\n",
      "   ---------------------------------------- 0.0/1.5 MB ? eta -:--:--\n",
      "   ------ --------------------------------- 0.3/1.5 MB ? eta -:--:--\n",
      "   ------ --------------------------------- 0.3/1.5 MB ? eta -:--:--\n",
      "   ------ --------------------------------- 0.3/1.5 MB ? eta -:--:--\n",
      "   ------------- -------------------------- 0.5/1.5 MB 479.2 kB/s eta 0:00:03\n",
      "   ------------- -------------------------- 0.5/1.5 MB 479.2 kB/s eta 0:00:03\n",
      "   ------------- -------------------------- 0.5/1.5 MB 479.2 kB/s eta 0:00:03\n",
      "   ------------- -------------------------- 0.5/1.5 MB 479.2 kB/s eta 0:00:03\n",
      "   --------------------------- ------------ 1.0/1.5 MB 541.2 kB/s eta 0:00:01\n",
      "   --------------------------- ------------ 1.0/1.5 MB 541.2 kB/s eta 0:00:01\n",
      "   --------------------------- ------------ 1.0/1.5 MB 541.2 kB/s eta 0:00:01\n",
      "   ---------------------------------- ----- 1.3/1.5 MB 532.5 kB/s eta 0:00:01\n",
      "   ---------------------------------------- 1.5/1.5 MB 562.6 kB/s eta 0:00:00\n",
      "Installing collected packages: nltk\n",
      "  Attempting uninstall: nltk\n",
      "    Found existing installation: nltk 3.9.1\n",
      "    Uninstalling nltk-3.9.1:\n",
      "      Successfully uninstalled nltk-3.9.1\n",
      "Successfully installed nltk-3.8.1\n"
     ]
    },
    {
     "name": "stderr",
     "output_type": "stream",
     "text": [
      "[nltk_data] Downloading package punkt to C:\\Users\\Prabhsimrat\n",
      "[nltk_data]     Singh\\AppData\\Roaming\\nltk_data...\n"
     ]
    },
    {
     "name": "stdout",
     "output_type": "stream",
     "text": [
      "3.8.1\n"
     ]
    },
    {
     "name": "stderr",
     "output_type": "stream",
     "text": [
      "[nltk_data]   Unzipping tokenizers\\punkt.zip.\n"
     ]
    }
   ],
   "source": [
    "!pip install nltk==3.8.1\n",
    "import nltk\n",
    "nltk.download('punkt')\n",
    "print(nltk.__version__)"
   ]
  },
  {
   "cell_type": "code",
   "execution_count": 8,
   "id": "c3b6b242-2f95-46b2-9660-64ef85c94438",
   "metadata": {},
   "outputs": [
    {
     "name": "stdout",
     "output_type": "stream",
     "text": [
      "my favourite sports is cricket. favourite food is pizza, favourite movie is lord of the rings, favourite song is game.\n"
     ]
    }
   ],
   "source": [
    "import nltk\n",
    "from nltk.stem import PorterStemmer\n",
    "from nltk.tokenize import word_tokenize,sent_tokenize\n",
    "from nltk.stem import RegexpStemmer\n",
    "from nltk.stem import WordNetLemmatizer\n",
    "import re\n",
    "from nltk.corpus import stopwords\n",
    "s=\"My favourite sports is Cricket. Favourite food is Pizza, favourite Movie is Lord of the Rings, favourite song is Game.\"\n",
    "s_lower=s.lower();\n",
    "print(s_lower);\n",
    "words=word_tokenize(s);\n",
    "sentences=sent_tokenize(s);\n",
    "stop_words = set(stopwords.words('english'))\n",
    "filtered_words = [word for word in words if word not in stop_words]\n",
    "fdist = FreqDist(filtered_words)\n",
    "ps = PorterStemmer()\n",
    "lan=LancasterStemmer()\n",
    "wnet=  WordNetLemmatizer()\n",
    "\n",
    "for w in words:\n",
    "    print(w, \" : \", ps.stem(w))\n",
    "    print(w, \" : \", lan.lemmatize(w))\n",
    "    print(w, \" : \", wnet.lemmatize(w))\n",
    "\n",
    "\n",
    "\n",
    "long_words = re.findall(r'\\b\\w{6,}\\b', s)\n",
    "print(\"Words > 5 letters:\", long_words)\n",
    "numbers = re.findall(r'\\b\\d+(\\.\\d+)?\\b', s)\n",
    "print(\"Numbers:\", numbers)\n",
    "capitalized_words = re.findall(r'\\b[A-Z][a-z]*\\b', s)\n",
    "print(\"Capitalized words:\", capitalized_words)\n",
    "\n",
    "\n",
    "alpha_words = re.findall(r'\\b[a-zA-Z]+\\b', original_text)\n",
    "\n",
    "vowel_words = [word for word in alpha_words if word[0].lower() in 'aeiou']\n",
    "for word in alpha_words:\n",
    "    if word[0].lower in 'aeiou':\n",
    "        vowel_words.append(words);\n",
    "print(\"Alphabetic words:\", alpha_words)\n",
    "print(\"Words starting with vowels:\", vowel_words)\n",
    "\n",
    "\n",
    "\n",
    "\n"
   ]
  },
  {
   "cell_type": "code",
   "execution_count": null,
   "id": "06d5ebf7-8185-46a1-a14a-e328ff7d61e5",
   "metadata": {},
   "outputs": [],
   "source": []
  }
 ],
 "metadata": {
  "kernelspec": {
   "display_name": "Python [conda env:base] *",
   "language": "python",
   "name": "conda-base-py"
  },
  "language_info": {
   "codemirror_mode": {
    "name": "ipython",
    "version": 3
   },
   "file_extension": ".py",
   "mimetype": "text/x-python",
   "name": "python",
   "nbconvert_exporter": "python",
   "pygments_lexer": "ipython3",
   "version": "3.12.7"
  }
 },
 "nbformat": 4,
 "nbformat_minor": 5
}
